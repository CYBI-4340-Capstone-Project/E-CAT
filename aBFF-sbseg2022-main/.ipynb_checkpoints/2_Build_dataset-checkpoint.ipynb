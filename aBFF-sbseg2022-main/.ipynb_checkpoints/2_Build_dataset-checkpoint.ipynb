{
 "cells": [
  {
   "cell_type": "markdown",
   "id": "59071732-d169-4b98-83f1-c613928fa46e",
   "metadata": {},
   "source": [
    "# Build data set (parcial)\n",
    "\n",
    "### Final data sets are built in 3_train_model (before training model) or 4_test_model (if target yet incomplete)\n",
    "### Help below "
   ]
  },
  {
   "cell_type": "code",
   "execution_count": null,
   "id": "65b936db-a001-4129-b9b2-92ece66217c2",
   "metadata": {},
   "outputs": [],
   "source": [
    "%run supportFiles/featuresCIC.py"
   ]
  },
  {
   "cell_type": "markdown",
   "id": "166a253e-3456-43bf-bbe0-e523806866ad",
   "metadata": {},
   "source": [
    "### Examples"
   ]
  },
  {
   "cell_type": "markdown",
   "id": "3349fc5d-2f5f-4ee8-a593-229351e3b84e",
   "metadata": {},
   "source": [
    "### Running Bonafide complete set"
   ]
  },
  {
   "cell_type": "code",
   "execution_count": null,
   "id": "9566d492-f73b-4bbd-8067-95ee26453e05",
   "metadata": {
    "scrolled": true,
    "tags": []
   },
   "outputs": [],
   "source": [
    "# run featuresCIC on all AB-TRAP(bonafide)/cic.csv\n",
    "import os\n",
    "import datetime\n",
    "\n",
    "ignore = ['_00001_', '_00002_']\n",
    "for folder in [x for x in os.listdir('./csv/') if ('output' in x and x not in ignore)]:\n",
    "    print(\"running on file #{0}\".format(folder))\n",
    "    print(datetime.datetime.now().strftime(\"%Y-%m-%d %H:%M:%S\"))\n",
    "    os.system('python ./supportFiles/featuresCIC.py 1 \\\"./csv/{0}/\\\"'.format(folder))\n",
    "print(\"Done!\")"
   ]
  },
  {
   "cell_type": "markdown",
   "id": "196c8d49-4d50-414e-bf69-33d5439d1167",
   "metadata": {},
   "source": [
    "### Running Attack"
   ]
  },
  {
   "cell_type": "code",
   "execution_count": null,
   "id": "5ace3db6-b95a-4e36-9e93-d196eaeab796",
   "metadata": {},
   "outputs": [],
   "source": [
    "%run supportFiles/featuresCIC.py 2 \"./csv/attack/\""
   ]
  },
  {
   "cell_type": "markdown",
   "id": "f0faf34d-ea8d-4385-9b6c-2f1d5384d925",
   "metadata": {},
   "source": [
    "### Running UNBW-NB15 complete set"
   ]
  },
  {
   "cell_type": "code",
   "execution_count": 3,
   "id": "3e9d6ecb-9836-4664-a13e-3532602cd143",
   "metadata": {
    "tags": []
   },
   "outputs": [
    {
     "name": "stdout",
     "output_type": "stream",
     "text": [
      "running on file #3\n",
      "2025-02-23 14:49:31\n",
      "Done!\n"
     ]
    }
   ],
   "source": [
    "# run featuresCIC on all UNBW-NB15/cic.csv\n",
    "import os\n",
    "import datetime\n",
    "\n",
    "ignore = []#['1', '2', '3', '4', '5', '6']\n",
    "for folder in [x for x in os.listdir('./csv/') if (x.isnumeric() and x not in ignore)]:\n",
    "    print(\"running on file #{0}\".format(folder))\n",
    "    print(datetime.datetime.now().strftime(\"%Y-%m-%d %H:%M:%S\"))\n",
    "    os.system('python ./supportFiles/featuresCIC.py 3 \\\"./csv/{0}/\\\"'.format(folder))\n",
    "print(\"Done!\")"
   ]
  },
  {
   "cell_type": "markdown",
   "id": "d27dd814-9ebc-452b-9411-4d50715ccb83",
   "metadata": {},
   "source": [
    "### Running Internet"
   ]
  },
  {
   "cell_type": "code",
   "execution_count": null,
   "id": "b95efa0b-8bb6-4f50-ba15-53ce8e849ba3",
   "metadata": {},
   "outputs": [],
   "source": [
    "%run supportFiles/featuresCIC.py 5 \"./csv/internet/\""
   ]
  },
  {
   "cell_type": "code",
   "execution_count": null,
   "id": "159de8c9-8e7e-4ae2-9328-ddcd42a54b5a",
   "metadata": {},
   "outputs": [],
   "source": []
  }
 ],
 "metadata": {
  "kernelspec": {
   "display_name": "Python 3 (ipykernel)",
   "language": "python",
   "name": "python3"
  },
  "language_info": {
   "codemirror_mode": {
    "name": "ipython",
    "version": 3
   },
   "file_extension": ".py",
   "mimetype": "text/x-python",
   "name": "python",
   "nbconvert_exporter": "python",
   "pygments_lexer": "ipython3",
   "version": "3.12.5"
  }
 },
 "nbformat": 4,
 "nbformat_minor": 5
}
