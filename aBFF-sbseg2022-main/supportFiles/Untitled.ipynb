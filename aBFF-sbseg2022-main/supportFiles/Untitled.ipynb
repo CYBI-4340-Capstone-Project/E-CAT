{
 "cells": [
  {
   "cell_type": "code",
   "execution_count": 1,
   "id": "1b711fec-b0fc-46ee-be80-db9985bb9f3b",
   "metadata": {},
   "outputs": [
    {
     "name": "stderr",
     "output_type": "stream",
     "text": [
      "C:\\Users\\Daniel\\AppData\\Local\\Temp\\ipykernel_19644\\3508936089.py:5: DtypeWarning: Columns (1,3,47) have mixed types. Specify dtype option on import or set low_memory=False.\n",
      "  df = pd.read_csv(file_path)\n"
     ]
    },
    {
     "name": "stdout",
     "output_type": "stream",
     "text": [
      "Columns renamed and file saved successfully.\n"
     ]
    }
   ],
   "source": [
    "import pandas as pd\n",
    "\n",
    "# Load the .csv file\n",
    "file_path = './dataset/NB15_1_CIC.csv'\n",
    "df = pd.read_csv(file_path)\n",
    "\n",
    "# Rename the columns\n",
    "df.rename(columns={\n",
    "    'Stime': 'timestamp',\n",
    "    'srcip': 'src_ip',\n",
    "    'sport': 'src_port',\n",
    "    'dstip': 'dst_ip',\n",
    "    'dsport': 'dst_port'\n",
    "}, inplace=True)\n",
    "\n",
    "# Save the updated DataFrame to a new .csv file\n",
    "df.to_csv('NB15_1_CIC.csv', index=False)\n",
    "\n",
    "print(\"Columns renamed and file saved successfully.\")"
   ]
  },
  {
   "cell_type": "code",
   "execution_count": null,
   "id": "7ff4aabf-0bea-4744-bd16-55d0f12a951e",
   "metadata": {},
   "outputs": [],
   "source": []
  }
 ],
 "metadata": {
  "kernelspec": {
   "display_name": "Python 3 (ipykernel)",
   "language": "python",
   "name": "python3"
  },
  "language_info": {
   "codemirror_mode": {
    "name": "ipython",
    "version": 3
   },
   "file_extension": ".py",
   "mimetype": "text/x-python",
   "name": "python",
   "nbconvert_exporter": "python",
   "pygments_lexer": "ipython3",
   "version": "3.12.5"
  }
 },
 "nbformat": 4,
 "nbformat_minor": 5
}
