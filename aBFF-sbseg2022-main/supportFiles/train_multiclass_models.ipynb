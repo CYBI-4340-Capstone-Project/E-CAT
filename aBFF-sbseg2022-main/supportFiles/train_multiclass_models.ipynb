{
 "cells": [
  {
   "cell_type": "code",
   "execution_count": 1,
   "metadata": {},
   "outputs": [],
   "source": [
    "import pandas as pd\n",
    "import numpy as np\n",
    "from sklearn.model_selection import train_test_split\n",
    "from sklearn.preprocessing import StandardScaler\n",
    "from sklearn.metrics import classification_report, confusion_matrix, f1_score, precision_score, recall_score, accuracy_score, roc_auc_score\n",
    "from joblib import dump\n",
    "import os\n",
    "from myFunc import ALGORITHMS, FEATURE_TYPES"
   ]
  },
  {
   "cell_type": "code",
   "execution_count": null,
   "metadata": {},
   "outputs": [],
   "source": [
    "# Load Data\n",
    "combined_file = './dataset/final/combined_dataset.parquet'\n",
    "df = pd.read_parquet(combined_file)"
   ]
  },
  {
   "cell_type": "code",
   "execution_count": null,
   "metadata": {},
   "outputs": [],
   "source": [
    "# Preprocess Data\n",
    "X = df.drop(columns=['Label'])\n",
    "y = df['Label']"
   ]
  },
  {
   "cell_type": "code",
   "execution_count": null,
   "metadata": {},
   "outputs": [],
   "source": [
    "# Split the data into training and testing sets\n",
    "X_train, X_test, y_train, y_test = train_test_split(X, y, test_size=0.2, random_state=42)"
   ]
  },
  {
   "cell_type": "code",
   "execution_count": null,
   "metadata": {},
   "outputs": [],
   "source": [
    "# Standardize the features\n",
    "scaler = StandardScaler()\n",
    "X_train = scaler.fit_transform(X_train)\n",
    "X_test = scaler.transform(X_test)"
   ]
  },
  {
   "cell_type": "code",
   "execution_count": null,
   "metadata": {},
   "outputs": [],
   "source": [
    "# Save the scaler\n",
    "scaler_file = './models/scaler.joblib'\n",
    "dump(scaler, scaler_file)\n",
    "print(f'Scaler saved to {scaler_file}')"
   ]
  },
  {
   "cell_type": "code",
   "execution_count": null,
   "metadata": {},
   "outputs": [],
   "source": [
    "# Train Models\n",
    "trained_models = {}\n",
    "for name, (model, params) in ALGORITHMS.items():\n",
    "    print(f'Training {name}...')\n",
    "    model.set_params(**params)\n",
    "    model.fit(X_train, y_train)\n",
    "    trained_models[name] = model\n",
    "    print(f'{name} trained.')"
   ]
  },
  {
   "cell_type": "code",
   "execution_count": null,
   "metadata": {},
   "outputs": [],
   "source": [
    "# Evaluate Models\n",
    "results = []\n",
    "for name, model in trained_models.items():\n",
    "    print(f'Evaluating {name}...')\n",
    "    y_pred = model.predict(X_test)\n",
    "    f1 = f1_score(y_test, y_pred, average='weighted')\n",
    "    precision = precision_score(y_test, y_pred, average='weighted')\n",
    "    recall = recall_score(y_test, y_pred, average='weighted')\n",
    "    accuracy = accuracy_score(y_test, y_pred)\n",
    "    confusion = confusion_matrix(y_test, y_pred)\n",
    "    try:\n",
    "        auc_roc = roc_auc_score(y_test, model.predict_proba(X_test), multi_class='ovr')\n",
    "    except AttributeError:\n",
    "        auc_roc = 'N/A'  # Some models do not have predict_proba method\n",
    "\n",
    "    results.append({\n",
    "        'Model': name,\n",
    "        'F1 Score': f1,\n",
    "        'Precision': precision,\n",
    "        'Recall': recall,\n",
    "        'Accuracy': accuracy,\n",
    "        'AUC-ROC': auc_roc,\n",
    "        'Confusion Matrix': confusion\n",
    "    })\n",
    "    print(f'{name} F1 Score: {f1}')\n",
    "    print(f'{name} Precision: {precision}')\n",
    "    print(f'{name} Recall: {recall}')\n",
    "    print(f'{name} Accuracy: {accuracy}')\n",
    "    print(f'{name} AUC-ROC: {auc_roc}')\n",
    "    print(f'{name} Confusion Matrix:\\n{confusion}')"
   ]
  },
  {
   "cell_type": "code",
   "execution_count": null,
   "metadata": {},
   "outputs": [],
   "source": [
    "results_df = pd.DataFrame(results)\n",
    "print(results_df)"
   ]
  },
  {
   "cell_type": "code",
   "execution_count": null,
   "metadata": {},
   "outputs": [],
   "source": [
    "# Save Results\n",
    "results_file = './supportFiles/dissertation/fscore_b_combined.csv'\n",
    "results_df.to_csv(results_file, index=False)\n",
    "print(f'Results saved to {results_file}')"
   ]
  },
  {
   "cell_type": "code",
   "execution_count": null,
   "metadata": {},
   "outputs": [],
   "source": [
    "# Save Models\n",
    "models_dir = './models'\n",
    "if not os.path.exists(models_dir):\n",
    "    os.makedirs(models_dir)"
   ]
  },
  {
   "cell_type": "code",
   "execution_count": null,
   "metadata": {},
   "outputs": [],
   "source": [
    "for name, model in trained_models.items():\n",
    "    model_file = os.path.join(models_dir, f'{name}_model.joblib')\n",
    "    dump(model, model_file)\n",
    "    print(f'{name} model saved to {model_file}')"
   ]
  }
 ],
 "metadata": {
  "kernelspec": {
   "display_name": "tf",
   "language": "python",
   "name": "python3"
  },
  "language_info": {
   "codemirror_mode": {
    "name": "ipython",
    "version": 3
   },
   "file_extension": ".py",
   "mimetype": "text/x-python",
   "name": "python",
   "nbconvert_exporter": "python",
   "pygments_lexer": "ipython3",
   "version": "3.12.5"
  }
 },
 "nbformat": 4,
 "nbformat_minor": 2
}
