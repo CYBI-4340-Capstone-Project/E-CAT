{
 "cells": [
  {
   "cell_type": "markdown",
   "metadata": {
    "colab_type": "text",
    "id": "ovbd1i5W0yqa"
   },
   "source": [
    "# Description\n",
    "\n",
    "This notebook demonstrate how to download GeneratedLabelledFlows from the CICIDS2017 dataset.\n",
    "\n",
    "*Author*: **Mahendra Data** mahendra.data@dbms.cs.kumamoto-u.ac.jp\n",
    "\n",
    "License: **BSD 3 clause**"
   ]
  },
  {
   "cell_type": "markdown",
   "metadata": {
    "colab_type": "text",
    "id": "QHdWG9Ol00PE"
   },
   "source": [
    "# Mounting Google Drive\n",
    "\n",
    "We will save the downloaded dataset to Google Drive."
   ]
  },
  {
   "cell_type": "code",
   "execution_count": null,
   "metadata": {
    "colab": {},
    "colab_type": "code",
    "id": "8Q4fip2H02Pd"
   },
   "outputs": [],
   "source": [
    "from google.colab import drive\n",
    "drive.mount(\"/content/drive\")"
   ]
  },
  {
   "cell_type": "markdown",
   "metadata": {
    "colab_type": "text",
    "id": "Dnr9koUm0yqd"
   },
   "source": [
    "# Downloading the dataset\n",
    "\n",
    "The description of CICIDS2017 dataset is accessible at https://www.unb.ca/cic/datasets/ids-2017.html\n",
    "\n",
    "There are three versions available:\n",
    "\n",
    "1. Raw network captured data (PCAPs),\n",
    "2. Generated Labelled Flows, and\n",
    "3. Machine Learning CSV.\n",
    "\n",
    "In this notebook, we will download the `GeneratedLabelledFlows.zip` version of this dataset."
   ]
  },
  {
   "cell_type": "code",
   "execution_count": 2,
   "metadata": {},
   "outputs": [
    {
     "name": "stdout",
     "output_type": "stream",
     "text": [
      "Collecting wget\n",
      "  Downloading wget-3.2.zip (10 kB)\n",
      "  Preparing metadata (setup.py): started\n",
      "  Preparing metadata (setup.py): finished with status 'done'\n",
      "Building wheels for collected packages: wget\n",
      "  Building wheel for wget (setup.py): started\n",
      "  Building wheel for wget (setup.py): finished with status 'done'\n",
      "  Created wheel for wget: filename=wget-3.2-py3-none-any.whl size=9683 sha256=6d083fd9c5dde5ad1e1a2c39271711714e3d5fee69cc5facf56c778364af0f9e\n",
      "  Stored in directory: c:\\users\\daniel\\appdata\\local\\pip\\cache\\wheels\\01\\46\\3b\\e29ffbe4ebe614ff224bad40fc6a5773a67a163251585a13a9\n",
      "Successfully built wget\n",
      "Installing collected packages: wget\n",
      "Successfully installed wget-3.2\n"
     ]
    }
   ],
   "source": [
    "!pip install wget"
   ]
  },
  {
   "cell_type": "code",
   "execution_count": 1,
   "metadata": {},
   "outputs": [],
   "source": [
    "import wget"
   ]
  },
  {
   "cell_type": "code",
   "execution_count": 2,
   "metadata": {
    "colab": {
     "base_uri": "https://localhost:8080/",
     "height": 187
    },
    "colab_type": "code",
    "executionInfo": {
     "elapsed": 126707,
     "status": "ok",
     "timestamp": 1596692030271,
     "user": {
      "displayName": "Mahendra Data",
      "photoUrl": "https://lh3.googleusercontent.com/a-/AOh14Ghn7DAlkRKEg-Y82BqktrBT0ABMFy8r5576xhbKDQ=s64",
      "userId": "08049029618478467489"
     },
     "user_tz": -540
    },
    "id": "KDQBKsnl0yqf",
    "outputId": "050ac7f2-df10-48a4-c24e-c5630c6562ad"
   },
   "outputs": [
    {
     "name": "stderr",
     "output_type": "stream",
     "text": [
      "'wget' is not recognized as an internal or external command,\n",
      "operable program or batch file.\n"
     ]
    }
   ],
   "source": [
    "!wget -nc -O GeneratedLabelledFlows.zip http://205.174.165.80/CICDataset/CIC-IDS-2017/Dataset/GeneratedLabelledFlows.zip"
   ]
  },
  {
   "cell_type": "markdown",
   "metadata": {
    "colab_type": "text",
    "id": "QpaSsiJU0yqk"
   },
   "source": [
    "# Integrity check\n",
    "\n",
    "Download `GeneratedLabelledFlows.md5` file to check the integrity of the downloaded file."
   ]
  },
  {
   "cell_type": "code",
   "execution_count": null,
   "metadata": {
    "colab": {
     "base_uri": "https://localhost:8080/",
     "height": 187
    },
    "colab_type": "code",
    "executionInfo": {
     "elapsed": 128488,
     "status": "ok",
     "timestamp": 1596692032061,
     "user": {
      "displayName": "Mahendra Data",
      "photoUrl": "https://lh3.googleusercontent.com/a-/AOh14Ghn7DAlkRKEg-Y82BqktrBT0ABMFy8r5576xhbKDQ=s64",
      "userId": "08049029618478467489"
     },
     "user_tz": -540
    },
    "id": "F7DMcBUz0yqk",
    "outputId": "b54391fe-ea88-4fe4-efd0-fc38ba296c57"
   },
   "outputs": [
    {
     "name": "stdout",
     "output_type": "stream",
     "text": [
      "--2020-08-06 05:33:50--  http://205.174.165.80/CICDataset/CIC-IDS-2017/Dataset/GeneratedLabelledFlows.md5\n",
      "Connecting to 205.174.165.80:80... connected.\n",
      "HTTP request sent, awaiting response... 200 OK\n",
      "Length: 61\n",
      "Saving to: ‘GeneratedLabelledFlows.md5’\n",
      "\n",
      "\r",
      "          Generated   0%[                    ]       0  --.-KB/s               \r",
      "GeneratedLabelledFl 100%[===================>]      61  --.-KB/s    in 0s      \n",
      "\n",
      "2020-08-06 05:33:50 (6.88 MB/s) - ‘GeneratedLabelledFlows.md5’ saved [61/61]\n",
      "\n"
     ]
    }
   ],
   "source": [
    "!wget -nc http://205.174.165.80/CICDataset/CIC-IDS-2017/Dataset/GeneratedLabelledFlows.md5"
   ]
  },
  {
   "cell_type": "markdown",
   "metadata": {
    "colab_type": "text",
    "id": "akxfdrZ_0yqo"
   },
   "source": [
    "Checking the file integrity."
   ]
  },
  {
   "cell_type": "code",
   "execution_count": null,
   "metadata": {
    "colab": {
     "base_uri": "https://localhost:8080/",
     "height": 34
    },
    "colab_type": "code",
    "executionInfo": {
     "elapsed": 130490,
     "status": "ok",
     "timestamp": 1596692034074,
     "user": {
      "displayName": "Mahendra Data",
      "photoUrl": "https://lh3.googleusercontent.com/a-/AOh14Ghn7DAlkRKEg-Y82BqktrBT0ABMFy8r5576xhbKDQ=s64",
      "userId": "08049029618478467489"
     },
     "user_tz": -540
    },
    "id": "8zEf1JtW0yqp",
    "outputId": "71075251-0e2a-4509-8a52-f0d2c6960908"
   },
   "outputs": [
    {
     "name": "stdout",
     "output_type": "stream",
     "text": [
      "GeneratedLabelledFlows.zip: OK\n"
     ]
    }
   ],
   "source": [
    "!md5sum -c GeneratedLabelledFlows.md5"
   ]
  },
  {
   "cell_type": "markdown",
   "metadata": {
    "colab_type": "text",
    "id": "J3NpbnnN0yqt"
   },
   "source": [
    "If the downloaded dataset is correct, then the output should be like this\n",
    "\n",
    "`GeneratedLabelledFlows.zip: OK`"
   ]
  },
  {
   "cell_type": "markdown",
   "metadata": {
    "colab_type": "text",
    "id": "fueJb4vK3RYs"
   },
   "source": [
    "# Saving the dataset\n",
    "\n",
    "Save the zip and extracted files to Google Drive."
   ]
  },
  {
   "cell_type": "code",
   "execution_count": null,
   "metadata": {
    "colab": {},
    "colab_type": "code",
    "id": "-Qbe7PBF1rIP"
   },
   "outputs": [],
   "source": [
    "!mkdir -p \"/content/drive/My Drive/CICIDS2017/\"\n",
    "\n",
    "!cp GeneratedLabelledFlows.zip \"/content/drive/My Drive/CICIDS2017/\""
   ]
  },
  {
   "cell_type": "markdown",
   "metadata": {
    "colab_type": "text",
    "id": "vWkym95UfOYu"
   },
   "source": [
    "Now the dataset is saved to your Google Drive at `CICIDS2017` folder."
   ]
  }
 ],
 "metadata": {
  "colab": {
   "collapsed_sections": [],
   "name": "1.1 Downloading GeneratedLabelledFlows CICIDS2017 Dataset .ipynb",
   "provenance": []
  },
  "kernelspec": {
   "display_name": "Python 3 (ipykernel)",
   "language": "python",
   "name": "python3"
  },
  "language_info": {
   "codemirror_mode": {
    "name": "ipython",
    "version": 3
   },
   "file_extension": ".py",
   "mimetype": "text/x-python",
   "name": "python",
   "nbconvert_exporter": "python",
   "pygments_lexer": "ipython3",
   "version": "3.12.5"
  }
 },
 "nbformat": 4,
 "nbformat_minor": 4
}
