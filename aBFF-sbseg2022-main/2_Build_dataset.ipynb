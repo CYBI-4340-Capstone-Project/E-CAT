{
 "cells": [
  {
   "cell_type": "markdown",
   "id": "59071732-d169-4b98-83f1-c613928fa46e",
   "metadata": {},
   "source": [
    "# Build data set (parcial)\n",
    "\n",
    "### Final data sets are built in 3_train_model (before training model) or 4_test_model (if target yet incomplete)\n",
    "### Help below "
   ]
  },
  {
   "cell_type": "code",
   "execution_count": null,
   "id": "65b936db-a001-4129-b9b2-92ece66217c2",
   "metadata": {},
   "outputs": [],
   "source": [
    "%run supportFiles/featuresCIC.py"
   ]
  },
  {
   "cell_type": "markdown",
   "id": "166a253e-3456-43bf-bbe0-e523806866ad",
   "metadata": {},
   "source": [
    "### Examples"
   ]
  },
  {
   "cell_type": "markdown",
   "id": "3349fc5d-2f5f-4ee8-a593-229351e3b84e",
   "metadata": {},
   "source": [
    "### Running Bonafide complete set"
   ]
  },
  {
   "cell_type": "code",
   "execution_count": null,
   "id": "9566d492-f73b-4bbd-8067-95ee26453e05",
   "metadata": {
    "scrolled": true,
    "tags": []
   },
   "outputs": [],
   "source": [
    "# run featuresCIC on all AB-TRAP(bonafide)/cic.csv\n",
    "import os\n",
    "import datetime\n",
    "\n",
    "ignore = ['_00001_', '_00002_']\n",
    "for folder in [x for x in os.listdir('./csv/') if ('output' in x and x not in ignore)]:\n",
    "    print(\"running on file #{0}\".format(folder))\n",
    "    print(datetime.datetime.now().strftime(\"%Y-%m-%d %H:%M:%S\"))\n",
    "    os.system('python ./supportFiles/featuresCIC.py 1 \\\"./csv/{0}/\\\"'.format(folder))\n",
    "print(\"Done!\")"
   ]
  },
  {
   "cell_type": "markdown",
   "id": "196c8d49-4d50-414e-bf69-33d5439d1167",
   "metadata": {},
   "source": [
    "### Running Attack"
   ]
  },
  {
   "cell_type": "code",
   "execution_count": null,
   "id": "5ace3db6-b95a-4e36-9e93-d196eaeab796",
   "metadata": {},
   "outputs": [],
   "source": [
    "%run supportFiles/featuresCIC.py 2 \"./csv/attack/\""
   ]
  },
  {
   "cell_type": "markdown",
   "id": "f0faf34d-ea8d-4385-9b6c-2f1d5384d925",
   "metadata": {},
   "source": [
    "### Running UNBW-NB15 complete set"
   ]
  },
  {
   "cell_type": "code",
   "execution_count": null,
   "id": "3e9d6ecb-9836-4664-a13e-3532602cd143",
   "metadata": {
    "tags": []
   },
   "outputs": [
    {
     "name": "stdout",
     "output_type": "stream",
     "text": [
      "running on file #1\n",
      "2025-03-08 19:23:05\n",
      "running on file #10\n",
      "2025-03-08 19:23:07\n",
      "running on file #11\n",
      "2025-03-08 19:23:09\n",
      "running on file #12\n",
      "2025-03-08 19:23:11\n",
      "running on file #13\n",
      "2025-03-08 19:23:13\n",
      "running on file #14\n",
      "2025-03-08 19:23:15\n",
      "running on file #15\n",
      "2025-03-08 19:23:18\n",
      "running on file #16\n",
      "2025-03-08 19:23:20\n",
      "running on file #17\n",
      "2025-03-08 19:23:22\n",
      "running on file #18\n",
      "2025-03-08 19:23:24\n"
     ]
    },
    {
     "ename": "KeyboardInterrupt",
     "evalue": "",
     "output_type": "error",
     "traceback": [
      "\u001b[1;31m---------------------------------------------------------------------------\u001b[0m",
      "\u001b[1;31mKeyboardInterrupt\u001b[0m                         Traceback (most recent call last)",
      "Cell \u001b[1;32mIn[3], line 9\u001b[0m\n\u001b[0;32m      7\u001b[0m     \u001b[38;5;28mprint\u001b[39m(\u001b[38;5;124m\"\u001b[39m\u001b[38;5;124mrunning on file #\u001b[39m\u001b[38;5;132;01m{0}\u001b[39;00m\u001b[38;5;124m\"\u001b[39m\u001b[38;5;241m.\u001b[39mformat(folder))\n\u001b[0;32m      8\u001b[0m     \u001b[38;5;28mprint\u001b[39m(datetime\u001b[38;5;241m.\u001b[39mdatetime\u001b[38;5;241m.\u001b[39mnow()\u001b[38;5;241m.\u001b[39mstrftime(\u001b[38;5;124m\"\u001b[39m\u001b[38;5;124m%\u001b[39m\u001b[38;5;124mY-\u001b[39m\u001b[38;5;124m%\u001b[39m\u001b[38;5;124mm-\u001b[39m\u001b[38;5;132;01m%d\u001b[39;00m\u001b[38;5;124m \u001b[39m\u001b[38;5;124m%\u001b[39m\u001b[38;5;124mH:\u001b[39m\u001b[38;5;124m%\u001b[39m\u001b[38;5;124mM:\u001b[39m\u001b[38;5;124m%\u001b[39m\u001b[38;5;124mS\u001b[39m\u001b[38;5;124m\"\u001b[39m))\n\u001b[1;32m----> 9\u001b[0m     os\u001b[38;5;241m.\u001b[39msystem(\u001b[38;5;124m'\u001b[39m\u001b[38;5;124mpython featuresCIC.py 3 ./csv/\u001b[39m\u001b[38;5;132;01m{0}\u001b[39;00m\u001b[38;5;124m/\u001b[39m\u001b[38;5;124m'\u001b[39m\u001b[38;5;241m.\u001b[39mformat(folder))\n\u001b[0;32m     10\u001b[0m \u001b[38;5;28mprint\u001b[39m(\u001b[38;5;124m\"\u001b[39m\u001b[38;5;124mDone!\u001b[39m\u001b[38;5;124m\"\u001b[39m)\n",
      "\u001b[1;31mKeyboardInterrupt\u001b[0m: "
     ]
    }
   ],
   "source": [
    "# run featuresCIC on all UNBW-NB15/cic.csv\n",
    "import os\n",
    "import datetime\n",
    "\n",
    "ignore = []#['1', '2', '3', '4', '5', '6']\n",
    "for folder in [x for x in os.listdir('./csv/') if (x.isnumeric() and x not in ignore)]:\n",
    "    print(\"running on file #{0}\".format(folder))\n",
    "    print(datetime.datetime.now().strftime(\"%Y-%m-%d %H:%M:%S\"))\n",
    "    os.system('python ./supportFiles/featuresCIC.py 3 ./csv/{0}/'.format(folder))\n",
    "print(\"Done!\")"
   ]
  },
  {
   "cell_type": "markdown",
   "id": "d27dd814-9ebc-452b-9411-4d50715ccb83",
   "metadata": {},
   "source": [
    "### Running Internet"
   ]
  },
  {
   "cell_type": "code",
   "execution_count": null,
   "id": "b95efa0b-8bb6-4f50-ba15-53ce8e849ba3",
   "metadata": {},
   "outputs": [],
   "source": [
    "%run supportFiles/featuresCIC.py 5 \"./csv/internet/\""
   ]
  },
  {
   "cell_type": "code",
   "execution_count": null,
   "id": "159de8c9-8e7e-4ae2-9328-ddcd42a54b5a",
   "metadata": {},
   "outputs": [],
   "source": []
  }
 ],
 "metadata": {
  "kernelspec": {
   "display_name": "base",
   "language": "python",
   "name": "python3"
  },
  "language_info": {
   "codemirror_mode": {
    "name": "ipython",
    "version": 3
   },
   "file_extension": ".py",
   "mimetype": "text/x-python",
   "name": "python",
   "nbconvert_exporter": "python",
   "pygments_lexer": "ipython3",
   "version": "3.12.4"
  }
 },
 "nbformat": 4,
 "nbformat_minor": 5
}
